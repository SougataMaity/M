{
 "cells": [
  {
   "cell_type": "markdown",
   "id": "b47e5808",
   "metadata": {},
   "source": [
    "Q.1 What exactly is a feature? Give an example to illustrate your point.\n",
    "\n",
    "Feature is an object which specify information of things.\n",
    "Suppose we take feature of human => age, sex, hair color, eyes color, height, weight e.t.c"
   ]
  },
  {
   "cell_type": "markdown",
   "id": "78465489",
   "metadata": {},
   "source": [
    "Q.2 What are the various circumstances in which feature construction is required?\n",
    "\n",
    "Its totally depends upon what type of analysis we want\n",
    "-Filter methods\n",
    "-Wrapper methods\n",
    "-Embedded methods"
   ]
  },
  {
   "cell_type": "markdown",
   "id": "b2dfba4e",
   "metadata": {},
   "source": [
    "Q.3 Describe how nominal variables are encoded.\n",
    "\n",
    "When we have a feature where variables are just names and there is no order or rank to this variable's feature.\n",
    "In encoding scheme, the categorical feature is first converted into numerical using an ordinal encoder. Then the numbers are transformed in the binary number. \n",
    "After that binary value is split into different columns"
   ]
  },
  {
   "cell_type": "markdown",
   "id": "3bb46295",
   "metadata": {},
   "source": [
    "Q.4 Describe how numeric features are converted to categorical features.\n",
    "\n",
    "Define a range, Accroding to range we group it.\n",
    "Suppose Age => 0,5,12,21,40,55 e.t.c\n",
    "Atfirst define range and group itthne convart to category.\n",
    "Another example result of studets if score<=30 it take poor 31 to 60 good, 61 to 90 very good above 90 excellent"
   ]
  },
  {
   "cell_type": "markdown",
   "id": "b23d131c",
   "metadata": {},
   "source": [
    "Q.5 Describe the feature selection wrapper approach. State the advantages and disadvantages of this\n",
    "approach?\n",
    "\n",
    "Wrapper method evalute multiple models using procedures that add or remove predictors to find the optimal combination\n",
    "that maximizes model performence.\n",
    "\n",
    "- **Forward selection** : Start with one predictor and adds more iteratively\n",
    "- **Backward elimination** : Start with all predictor and eliminate one by one iteratively.\n",
    "- **Step-wise selection** : combination of forward selection and backward elimination.\n",
    "    Its less greedy than the previous the othrs"
   ]
  },
  {
   "cell_type": "markdown",
   "id": "756dda0f",
   "metadata": {},
   "source": [
    "Q.6 When is a feature considered irrelevant? What can be said to quantify it?\n",
    "\n",
    "If a feature of a datset not give any valid responce for our aim of analysis then this feature is irrevant.\n",
    "- If subset of this feature relavent then subset it\n",
    "- It tranformation is relavent the tranform it"
   ]
  },
  {
   "cell_type": "markdown",
   "id": "05f1d96c",
   "metadata": {},
   "source": [
    "Q.7 When is a function considered redundant? What criteria are used to identify features that could\n",
    "be redundant?"
   ]
  },
  {
   "cell_type": "markdown",
   "id": "d0bab705",
   "metadata": {},
   "source": [
    "Q.8 What are the various distance measurements used to determine feature similarity?\n",
    "\n",
    "Most importent\n",
    "- Euclideant distance\n",
    "- Manhattan Distance\n",
    "- Minkowski Distance"
   ]
  },
  {
   "cell_type": "markdown",
   "id": "8a4c2f28",
   "metadata": {},
   "source": [
    "Q.9 State difference between Euclidean and Manhattan distances?\n",
    "\n",
    "Euclidean distance is the shortest path between source and destination which is a straight line \n",
    "Manhattan distance is sum of all the real distances between source(s) and destination(d) and each distance are always the straight lines\n",
    "\n",
    "![img](https://uploads-cdn.omnicalculator.com/images/manhattan_distance.png?width=425&enlarge=0&format=jpeg)"
   ]
  },
  {
   "cell_type": "markdown",
   "id": "df7895dd",
   "metadata": {},
   "source": [
    "Q.10. Distinguish between feature transformation and feature selection.\n",
    "\n",
    "Feature transformation is a mathematical transformation in which we apply a mathematical formula to a particular column(feature) and transform the values which are useful for our further analysis\n",
    "\n",
    "Feature Selection is the method of reducing the input variable to your model by using only relevant data and getting rid of noise in data. It is the process of automatically choosing relevant features for your machine learning model based on the type of problem we trying to solve."
   ]
  },
  {
   "cell_type": "markdown",
   "id": "01300c00",
   "metadata": {},
   "source": [
    "\n",
    "- SVD: Singular value Decomposition\n",
    "M=UΣVᵗ, where:\n",
    "\n",
    "- M-is original matrix we want to decompose\n",
    "\n",
    "- U-is left singular matrix (columns are left singular vectors). U - columns contain eigenvectors of matrix MMᵗ\n",
    "- Σ-is a diagonal matrix containing singular (eigen)values\n",
    "- V-is right singular matrix (columns are right singular vectors). - V columns contain eigenvectors of matrix MᵗM\n",
    "\n",
    "![](https://miro.medium.com/max/1400/1*mo8loFarEKeNeVX49205-g.png)"
   ]
  },
  {
   "cell_type": "markdown",
   "id": "7542cee8",
   "metadata": {},
   "source": [
    "2.Collection of features using a hybrid approach\n",
    "\n",
    "A hybrid feature selection method is proposed for classification in small sample size data sets. • The filter step is based on instance learning taking advantage of the small sample size of data. • A few candidate feature subsets are generated since their number corresponds to the number of instances."
   ]
  },
  {
   "cell_type": "markdown",
   "id": "bfb82501",
   "metadata": {},
   "source": [
    "3.The width of the silhouette\n",
    "\n",
    "Average silhouette width (ASW) is a well-known index for measuring the clustering quality and for the estimation of the number of clusters."
   ]
  },
  {
   "cell_type": "markdown",
   "id": "569b97b0",
   "metadata": {},
   "source": [
    "4.Receiver operating characteristic curve\n",
    "\n",
    "ROC curves are frequently used to show in a graphical way the connection/trade-off between clinical sensitivity and specificity for every possible cut-off for a test or a combination of tests"
   ]
  }
 ],
 "metadata": {
  "kernelspec": {
   "display_name": "Python 3 (ipykernel)",
   "language": "python",
   "name": "python3"
  },
  "language_info": {
   "codemirror_mode": {
    "name": "ipython",
    "version": 3
   },
   "file_extension": ".py",
   "mimetype": "text/x-python",
   "name": "python",
   "nbconvert_exporter": "python",
   "pygments_lexer": "ipython3",
   "version": "3.9.7"
  }
 },
 "nbformat": 4,
 "nbformat_minor": 5
}
